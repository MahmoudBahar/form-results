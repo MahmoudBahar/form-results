{
 "cells": [
  {
   "cell_type": "code",
   "execution_count": 2,
   "id": "bb6eec6b-2dc9-4fb3-8a7a-b96e1c1f2828",
   "metadata": {
    "execution": {
     "iopub.execute_input": "2024-08-05T02:12:23.054932Z",
     "iopub.status.busy": "2024-08-05T02:12:23.053932Z",
     "iopub.status.idle": "2024-08-05T02:12:24.232853Z",
     "shell.execute_reply": "2024-08-05T02:12:24.232853Z",
     "shell.execute_reply.started": "2024-08-05T02:12:23.053932Z"
    }
   },
   "outputs": [],
   "source": [
    "import streamlit as st\n",
    "import pandas as pd\n",
    "import psycopg2"
   ]
  },
  {
   "cell_type": "code",
   "execution_count": 58,
   "id": "effff836-cc51-4b32-a643-45b283e77e0c",
   "metadata": {
    "execution": {
     "iopub.execute_input": "2024-08-05T02:58:37.508641Z",
     "iopub.status.busy": "2024-08-05T02:58:37.508641Z",
     "iopub.status.idle": "2024-08-05T02:58:39.401182Z",
     "shell.execute_reply": "2024-08-05T02:58:39.401182Z",
     "shell.execute_reply.started": "2024-08-05T02:58:37.508641Z"
    }
   },
   "outputs": [
    {
     "data": {
      "text/plain": [
       "0    b'\\xff\\xd8\\xff\\xe0\\x00\\x10JFIF\\x00\\x01\\x01\\x00...\n",
       "Name: pay_image, dtype: object"
      ]
     },
     "execution_count": 58,
     "metadata": {},
     "output_type": "execute_result"
    }
   ],
   "source": [
    "server = 'mtnatega.postgres.database.azure.com'\n",
    "database = 'postgres'\n",
    "username = 'natega'\n",
    "password = 'Mt100323'\n",
    "port = '5432'\n",
    "sslmode = 'require'\n",
    "conn = psycopg2.connect(\n",
    "host=server,\n",
    "database=database,\n",
    "user=username,\n",
    "password=password,\n",
    "port=port,\n",
    "sslmode=sslmode\n",
    ")\n",
    "cur = conn.cursor()\n",
    "select_query = '''\n",
    "    SELECT * FROM form\n",
    "    LIMIT 1\n",
    "    '''\n",
    "cur.execute(select_query)\n",
    "df = pd.DataFrame(cur.fetchall(), columns= [i[0]for i in cur.description])\n",
    "df['id_image'].apply(lambda x: x.tobytes())\n",
    "df['pay_image'].apply(lambda x: x.tobytes())"
   ]
  },
  {
   "cell_type": "code",
   "execution_count": 53,
   "id": "cd15bc59-ba87-4bbb-bba6-7cff41c18f2e",
   "metadata": {
    "execution": {
     "iopub.execute_input": "2024-08-05T02:52:58.170604Z",
     "iopub.status.busy": "2024-08-05T02:52:58.169605Z",
     "iopub.status.idle": "2024-08-05T02:52:58.183582Z",
     "shell.execute_reply": "2024-08-05T02:52:58.183582Z",
     "shell.execute_reply.started": "2024-08-05T02:52:58.170604Z"
    }
   },
   "outputs": [
    {
     "data": {
      "text/html": [
       "<div>\n",
       "<style scoped>\n",
       "    .dataframe tbody tr th:only-of-type {\n",
       "        vertical-align: middle;\n",
       "    }\n",
       "\n",
       "    .dataframe tbody tr th {\n",
       "        vertical-align: top;\n",
       "    }\n",
       "\n",
       "    .dataframe thead th {\n",
       "        text-align: right;\n",
       "    }\n",
       "</style>\n",
       "<table border=\"1\" class=\"dataframe\">\n",
       "  <thead>\n",
       "    <tr style=\"text-align: right;\">\n",
       "      <th></th>\n",
       "      <th>no</th>\n",
       "      <th>name</th>\n",
       "      <th>dep</th>\n",
       "      <th>id</th>\n",
       "      <th>phone</th>\n",
       "      <th>pay_no</th>\n",
       "      <th>add_number</th>\n",
       "      <th>id_image_name</th>\n",
       "      <th>id_image</th>\n",
       "      <th>pay_image_name</th>\n",
       "      <th>pay_image</th>\n",
       "    </tr>\n",
       "  </thead>\n",
       "  <tbody>\n",
       "    <tr>\n",
       "      <th>0</th>\n",
       "      <td>2</td>\n",
       "      <td>مصطفى سيد ابراهيم محمد</td>\n",
       "      <td>كهرباء</td>\n",
       "      <td>30104102200319</td>\n",
       "      <td>01154937978</td>\n",
       "      <td>01125671480</td>\n",
       "      <td>مرافق واحد (100 ج)</td>\n",
       "      <td>IMG-20240731-WA0000.jpg</td>\n",
       "      <td>[b'\\xff', b'\\xd8', b'\\xff', b'\\xe0', b'\\x00', ...</td>\n",
       "      <td>IMG-20240802-WA0046.jpg</td>\n",
       "      <td>[b'\\xff', b'\\xd8', b'\\xff', b'\\xe0', b'\\x00', ...</td>\n",
       "    </tr>\n",
       "  </tbody>\n",
       "</table>\n",
       "</div>"
      ],
      "text/plain": [
       "   no                     name     dep              id        phone  \\\n",
       "0   2  مصطفى سيد ابراهيم محمد   كهرباء  30104102200319  01154937978   \n",
       "\n",
       "        pay_no          add_number            id_image_name  \\\n",
       "0  01125671480  مرافق واحد (100 ج)  IMG-20240731-WA0000.jpg   \n",
       "\n",
       "                                            id_image           pay_image_name  \\\n",
       "0  [b'\\xff', b'\\xd8', b'\\xff', b'\\xe0', b'\\x00', ...  IMG-20240802-WA0046.jpg   \n",
       "\n",
       "                                           pay_image  \n",
       "0  [b'\\xff', b'\\xd8', b'\\xff', b'\\xe0', b'\\x00', ...  "
      ]
     },
     "execution_count": 53,
     "metadata": {},
     "output_type": "execute_result"
    }
   ],
   "source": [
    "df"
   ]
  },
  {
   "cell_type": "code",
   "execution_count": 70,
   "id": "6d27377b-ffee-40b9-a6da-866381e41ce8",
   "metadata": {
    "execution": {
     "iopub.execute_input": "2024-08-05T03:11:24.381089Z",
     "iopub.status.busy": "2024-08-05T03:11:24.380089Z",
     "iopub.status.idle": "2024-08-05T03:11:24.386466Z",
     "shell.execute_reply": "2024-08-05T03:11:24.386466Z",
     "shell.execute_reply.started": "2024-08-05T03:11:24.381089Z"
    }
   },
   "outputs": [
    {
     "data": {
      "text/plain": [
       "(1,)"
      ]
     },
     "execution_count": 70,
     "metadata": {},
     "output_type": "execute_result"
    }
   ],
   "source": [
    "tuple(df['add_number'].value_counts())"
   ]
  },
  {
   "cell_type": "code",
   "execution_count": 3,
   "id": "277418f5-60c3-43ba-b451-2db7cd965a02",
   "metadata": {
    "execution": {
     "iopub.execute_input": "2024-08-04T19:58:07.289343Z",
     "iopub.status.busy": "2024-08-04T19:58:07.289343Z",
     "iopub.status.idle": "2024-08-04T19:58:08.998111Z",
     "shell.execute_reply": "2024-08-04T19:58:08.998111Z",
     "shell.execute_reply.started": "2024-08-04T19:58:07.289343Z"
    }
   },
   "outputs": [
    {
     "name": "stdout",
     "output_type": "stream",
     "text": [
      "(129,)\n"
     ]
    }
   ],
   "source": [
    "\n",
    "\n",
    "server = 'mtnatega.postgres.database.azure.com'\n",
    "database = 'postgres'\n",
    "username = 'natega'\n",
    "password = 'Mt100323'\n",
    "port = '5432'\n",
    "sslmode = 'require'\n",
    "conn = psycopg2.connect(\n",
    "    host=server,\n",
    "    database=database,\n",
    "    user=username,\n",
    "    password=password,\n",
    "    port=port,\n",
    "    sslmode=sslmode\n",
    ")\n",
    "cur = conn.cursor()\n",
    "select_query = '''\n",
    "    SELECT count(*) FROM form\n",
    "    '''\n",
    "cur.execute(select_query)\n",
    "print(cur.fetchone())\n",
    "conn.commit()\n",
    "cur.close()\n",
    "conn.close()"
   ]
  },
  {
   "cell_type": "code",
   "execution_count": 20,
   "id": "98c8324c-437f-48f4-90e0-f2bf030eab62",
   "metadata": {
    "execution": {
     "iopub.execute_input": "2024-08-02T14:24:07.261290Z",
     "iopub.status.busy": "2024-08-02T14:24:07.260660Z",
     "iopub.status.idle": "2024-08-02T14:24:11.270551Z",
     "shell.execute_reply": "2024-08-02T14:24:11.268571Z",
     "shell.execute_reply.started": "2024-08-02T14:24:07.261257Z"
    }
   },
   "outputs": [],
   "source": [
    "import psycopg2\n",
    "\n",
    "server = 'mtnatega.postgres.database.azure.com'\n",
    "database = 'postgres'\n",
    "username = 'natega'\n",
    "password = 'Mt100323'\n",
    "port = '5432'\n",
    "sslmode = 'require'\n",
    "conn = psycopg2.connect(\n",
    "    host=server,\n",
    "    database=database,\n",
    "    user=username,\n",
    "    password=password,\n",
    "    port=port,\n",
    "    sslmode=sslmode\n",
    ")\n",
    "cur = conn.cursor()\n",
    "select_query = '''\n",
    "ALTER TABLE form\n",
    "ALTER COLUMN add_number TYPE VARCHAR(25);\n",
    "'''\n",
    "cur.execute(select_query)\n",
    "conn.commit()\n",
    "cur.close()\n",
    "conn.close()"
   ]
  },
  {
   "cell_type": "code",
   "execution_count": 105,
   "id": "d7d6c38f-370c-4d6b-8fb4-c793db9cd5e9",
   "metadata": {
    "execution": {
     "iopub.execute_input": "2024-08-05T04:12:59.027925Z",
     "iopub.status.busy": "2024-08-05T04:12:59.026925Z",
     "iopub.status.idle": "2024-08-05T04:12:59.039075Z",
     "shell.execute_reply": "2024-08-05T04:12:59.039075Z",
     "shell.execute_reply.started": "2024-08-05T04:12:59.027925Z"
    }
   },
   "outputs": [
    {
     "name": "stdout",
     "output_type": "stream",
     "text": [
      "Overwriting form.py\n"
     ]
    }
   ],
   "source": [
    "%%writefile form.py\n",
    "import pandas as pd\n",
    "import streamlit as st\n",
    "import numpy as np\n",
    "import psycopg2\n",
    "from streamlit_extras.stylable_container import stylable_container\n",
    "from functools import reduce\n",
    "\n",
    "if 'server' not in globals():\n",
    "    server = 'mtnatega.postgres.database.azure.com'\n",
    "    database = 'postgres'\n",
    "    username = 'natega'\n",
    "    password = 'Mt100323'\n",
    "    port = '5432'\n",
    "    sslmode = 'require'\n",
    "\n",
    "@st.cache_data()\n",
    "def data():\n",
    "    conn = psycopg2.connect(\n",
    "    host=server,\n",
    "    database=database,\n",
    "    user=username,\n",
    "    password=password,\n",
    "    port=port,\n",
    "    sslmode=sslmode\n",
    "    )\n",
    "    cur = conn.cursor()\n",
    "    select_query = '''\n",
    "        SELECT * FROM form\n",
    "        '''\n",
    "    cur.execute(select_query)\n",
    "    df = pd.DataFrame(cur.fetchall(), columns= [i[0]for i in cur.description])\n",
    "    return df['id_image'].apply(lambda x: x.tobytes()), df['pay_image'].apply(lambda x: x.tobytes()), df.drop(['id_image', 'pay_image', 'no'], axis = 1)\n",
    "id_images, pay_images, df = data()\n",
    "col1, col2 = st.columns([1,1],vertical_alignment='center')\n",
    "with col1:\n",
    "    with stylable_container(\n",
    "        key=\"Upload_Data\",\n",
    "        css_styles=\"\"\"\n",
    "        h2{\n",
    "        display: flex;\n",
    "            justify-content: flex-end;\n",
    "        }\n",
    "        \"\"\"\n",
    "    ):\n",
    "        st.header(f'عدد الطلاب المسجلين: {df.shape[0]}', divider='rainbow')\n",
    "with col2:\n",
    "    with stylable_container(\n",
    "        key=\"Upload_Data\",\n",
    "        css_styles=\"\"\"\n",
    "        h2{\n",
    "        display: flex;\n",
    "            justify-content: flex-end;\n",
    "        }\n",
    "        \"\"\"\n",
    "    ):\n",
    "        st.header(f'عدد المرافقين المسجلين: {sum(i*j for i, j in enumerate(df['add_number'].value_counts(), start = 1))}', divider='rainbow')\n",
    "col1, col2 = st.columns([1, 1])\n",
    "with col1:\n",
    "    st.text_input('الاسم بالعربي رباعي', key='name', label_visibility='collapsed', placeholder=\"الاسم بالعربي رباعي\")\n",
    "with col2:\n",
    "    st.selectbox('القسم', key='dep', options=[None, 'ميكانيكا صناعية', 'ميكاترونيكس', 'اتصالات', 'كهرباء', 'حاسبات', 'ميكانيكا انتاج', 'اتصالات credit', 'باور credit', 'طبية'], label_visibility='collapsed', placeholder=\"القسم\")\n",
    "col1, col2, col3 = st.columns([1, 1, 1])\n",
    "with col1:\n",
    "    st.text_input('الرقم القومي', key='ID', label_visibility='collapsed', placeholder=\"الرقم القومي\", max_chars = 14)\n",
    "with col2:\n",
    "    st.text_input('رقم الهاتف', key='phone', label_visibility='collapsed', placeholder=\"رقم الهاتف\")\n",
    "with col3:\n",
    "    st.selectbox('عدد المرافقين', key='add_no', options=[None, 'مرافق واحد (100 ج)', 'اتنين مرافقين (200 ج)', 'ثلاث مرافقين (300 ج)'], label_visibility='collapsed', placeholder=\"عدد المرافقين\")\n",
    "\n",
    "temp = df\n",
    "if st.session_state['name'] != None and st.session_state['name'] != '':\n",
    "    temp = temp[temp['name'].str.startswith(st.session_state['name'])]\n",
    "if st.session_state['dep'] != None and st.session_state['dep'] != '':\n",
    "    temp = temp[temp['dep'] == st.session_state['dep']]\n",
    "if st.session_state['ID'] != None and st.session_state['ID'] != '':\n",
    "    temp = temp[temp['id'] == st.session_state['ID']]\n",
    "if st.session_state['phone'] != None and st.session_state['phone'] != '':\n",
    "    temp = temp[temp['phone'].str.contains(st.session_state['phone'])]\n",
    "if st.session_state['add_no'] != None and st.session_state['add_no'] != '':\n",
    "    temp = temp[temp['add_number'] == st.session_state['add_no']]\n",
    "\n",
    "for i, j in temp.iterrows():\n",
    "    col1, col2 = st.columns([1,1],vertical_alignment='center')\n",
    "    with col1:\n",
    "        with stylable_container(\n",
    "            key=\"Upload_Data\",\n",
    "            css_styles=\"\"\"\n",
    "            h2{\n",
    "            display: flex;\n",
    "                justify-content: flex-end;\n",
    "            }\n",
    "            \"\"\"\n",
    "        ):\n",
    "            st.image(id_images[i], caption='صورة البطاقة')\n",
    "    with col2:\n",
    "        with stylable_container(\n",
    "            key=\"Upload_Data\",\n",
    "            css_styles=\"\"\"\n",
    "            h2{\n",
    "            display: flex;\n",
    "                justify-content: flex-end;\n",
    "            }\n",
    "            \"\"\"\n",
    "        ):\n",
    "            st.image(pay_images[i], caption='صورة عملية الدفع')\n",
    "            with stylable_container(\n",
    "                key=\"Upload_Data\",\n",
    "                css_styles=\"\"\"\n",
    "                p{\n",
    "                    display: flex;\n",
    "                    justify-content: flex-end;\n",
    "                }\n",
    "                \"\"\"\n",
    "            ):\n",
    "                st.write(f'الاسم: {j['name']}')\n",
    "                st.write(f'القسم: {j['dep']}')\n",
    "                st.write(f'الرقم القومي: {j['id']}')\n",
    "                st.write(f'رقم الهاتف: {j['phone']}')\n",
    "                st.write(f'رقم العملية: {j['pay_no']}')\n",
    "                st.write(f'عدد المرافقين : {j['add_number']}')"
   ]
  },
  {
   "cell_type": "code",
   "execution_count": 16,
   "id": "31ad5a2c-258b-4c38-8f88-d4a0f2f3db8b",
   "metadata": {
    "execution": {
     "iopub.execute_input": "2024-08-05T02:22:29.459320Z",
     "iopub.status.busy": "2024-08-05T02:22:29.459320Z",
     "iopub.status.idle": "2024-08-05T02:22:30.829203Z",
     "shell.execute_reply": "2024-08-05T02:22:30.829203Z",
     "shell.execute_reply.started": "2024-08-05T02:22:29.459320Z"
    }
   },
   "outputs": [
    {
     "data": {
      "text/html": [
       "<div>\n",
       "<style scoped>\n",
       "    .dataframe tbody tr th:only-of-type {\n",
       "        vertical-align: middle;\n",
       "    }\n",
       "\n",
       "    .dataframe tbody tr th {\n",
       "        vertical-align: top;\n",
       "    }\n",
       "\n",
       "    .dataframe thead th {\n",
       "        text-align: right;\n",
       "    }\n",
       "</style>\n",
       "<table border=\"1\" class=\"dataframe\">\n",
       "  <thead>\n",
       "    <tr style=\"text-align: right;\">\n",
       "      <th></th>\n",
       "      <th>0</th>\n",
       "      <th>1</th>\n",
       "      <th>2</th>\n",
       "      <th>3</th>\n",
       "      <th>4</th>\n",
       "    </tr>\n",
       "  </thead>\n",
       "  <tbody>\n",
       "    <tr>\n",
       "      <th>0</th>\n",
       "      <td>30101282103732</td>\n",
       "      <td>اسلام مدحت كامل سليمان</td>\n",
       "      <td>مرافق واحد (100 ج)</td>\n",
       "      <td>01112342484</td>\n",
       "      <td>007600497481</td>\n",
       "    </tr>\n",
       "  </tbody>\n",
       "</table>\n",
       "</div>"
      ],
      "text/plain": [
       "                0                        1                   2            3  \\\n",
       "0  30101282103732  اسلام مدحت كامل سليمان   مرافق واحد (100 ج)  01112342484   \n",
       "\n",
       "              4  \n",
       "0  007600497481  "
      ]
     },
     "execution_count": 16,
     "metadata": {},
     "output_type": "execute_result"
    }
   ],
   "source": [
    "conn = psycopg2.connect(\n",
    "    host=server,\n",
    "    database=database,\n",
    "    user=username,\n",
    "    password=password,\n",
    "    port=port,\n",
    "    sslmode=sslmode\n",
    ")\n",
    "cur = conn.cursor()\n",
    "select_query = '''\n",
    "SELECT id, name, add_number, phone, pay_no FROM form\n",
    "WHERE id = '30101282103732'\n",
    "'''\n",
    "cur.execute(select_query)\n",
    "pd.DataFrame(cur.fetchall())"
   ]
  },
  {
   "cell_type": "code",
   "execution_count": 30,
   "id": "a5075c3c-ffdd-4bdd-8f91-e12099096dd6",
   "metadata": {
    "execution": {
     "iopub.execute_input": "2024-08-04T20:50:22.631914Z",
     "iopub.status.busy": "2024-08-04T20:50:22.630903Z",
     "iopub.status.idle": "2024-08-04T20:50:24.230111Z",
     "shell.execute_reply": "2024-08-04T20:50:24.229094Z",
     "shell.execute_reply.started": "2024-08-04T20:50:22.631914Z"
    }
   },
   "outputs": [],
   "source": [
    "import psycopg2\n",
    "\n",
    "server = 'mtnatega.postgres.database.azure.com'\n",
    "database = 'postgres'\n",
    "username = 'natega'\n",
    "password = 'Mt100323'\n",
    "port = '5432'\n",
    "sslmode = 'require'\n",
    "conn = psycopg2.connect(\n",
    "    host=server,\n",
    "    database=database,\n",
    "    user=username,\n",
    "    password=password,\n",
    "    port=port,\n",
    "    sslmode=sslmode\n",
    ")\n",
    "cur = conn.cursor()\n",
    "select_query = '''\n",
    "SELECT name FROM form\n",
    "'''\n",
    "cur.execute(select_query)\n",
    "data = cur.fetchall()"
   ]
  },
  {
   "cell_type": "code",
   "execution_count": 83,
   "id": "b218da66-63fc-4672-98c3-fe8ad57ae9a7",
   "metadata": {
    "execution": {
     "iopub.execute_input": "2024-08-04T07:05:18.816355Z",
     "iopub.status.busy": "2024-08-04T07:05:18.815336Z",
     "iopub.status.idle": "2024-08-04T07:05:18.826157Z",
     "shell.execute_reply": "2024-08-04T07:05:18.825151Z",
     "shell.execute_reply.started": "2024-08-04T07:05:18.816355Z"
    }
   },
   "outputs": [],
   "source": [
    "import os, shutil\n",
    "\n",
    "try:\n",
    "    directory_path = 'ID/'\n",
    "    shutil.rmtree(directory_path)\n",
    "except Exception as e:\n",
    "    directory_path = 'ID/'\n",
    "    os.makedirs(directory_path, exist_ok=True)\n",
    "try:\n",
    "    directory_path = './PAY/'\n",
    "    shutil.rmtree(directory_path)\n",
    "except Exception as e:\n",
    "    directory_path = './PAY/'\n",
    "    os.makedirs(directory_path, exist_ok=True)\n"
   ]
  },
  {
   "cell_type": "code",
   "execution_count": 84,
   "id": "0cbf6046-9722-4df9-a02e-1687015e5bbb",
   "metadata": {
    "execution": {
     "iopub.execute_input": "2024-08-04T07:05:20.374156Z",
     "iopub.status.busy": "2024-08-04T07:05:20.373158Z",
     "iopub.status.idle": "2024-08-04T07:05:20.789716Z",
     "shell.execute_reply": "2024-08-04T07:05:20.789716Z",
     "shell.execute_reply.started": "2024-08-04T07:05:20.374156Z"
    }
   },
   "outputs": [],
   "source": [
    "for row in data:\n",
    "    no, name, dep, id, phone, pay_no, add_no, id_image_name, id_image, pay_image_name, pay_image = row\n",
    "    # Convert memoryview to bytes\n",
    "    id_image_bytes = id_image.tobytes() if isinstance(id_image, memoryview) else id_image\n",
    "    pay_image_bytes = pay_image.tobytes() if isinstance(pay_image, memoryview) else pay_image\n",
    "    \n",
    "    # Save ID image\n",
    "    with open(\"./ID/\"+name+'_'+id+ '_id' + id_image_name[id_image_name.rfind('.'):], 'wb') as id_image_file:\n",
    "        id_image_file.write(id_image_bytes)\n",
    "    \n",
    "    # Save Pay image\n",
    "    with open(\"./PAY/\"+name+'_'+id+ '_pay' + pay_image_name[pay_image_name.rfind('.'):], 'wb') as pay_image_file:\n",
    "        pay_image_file.write(pay_image_bytes)"
   ]
  },
  {
   "cell_type": "code",
   "execution_count": 85,
   "id": "394e61cd-95f5-4759-8559-159e96c2f461",
   "metadata": {
    "execution": {
     "iopub.execute_input": "2024-08-04T07:05:31.872849Z",
     "iopub.status.busy": "2024-08-04T07:05:31.871835Z",
     "iopub.status.idle": "2024-08-04T07:05:31.966898Z",
     "shell.execute_reply": "2024-08-04T07:05:31.966898Z",
     "shell.execute_reply.started": "2024-08-04T07:05:31.872849Z"
    }
   },
   "outputs": [],
   "source": [
    "pd.DataFrame(data).drop([0, 7, 8, 9, 10], axis = 1).rename({1:'الاسم', 2:'القسم', 3:'الرقم القومي', 4:'رقم الهاتف', 5:'رقم عملية التحويل', 6:'عدد المرافقين'}, axis = 1).to_excel('temp.xlsx')"
   ]
  },
  {
   "cell_type": "code",
   "execution_count": 30,
   "id": "dfb6c502-02b0-406a-9e63-983e6ab8d8a1",
   "metadata": {
    "execution": {
     "iopub.execute_input": "2024-08-02T22:01:26.575859Z",
     "iopub.status.busy": "2024-08-02T22:01:26.574857Z",
     "iopub.status.idle": "2024-08-02T22:01:26.622269Z",
     "shell.execute_reply": "2024-08-02T22:01:26.622269Z",
     "shell.execute_reply.started": "2024-08-02T22:01:26.575859Z"
    }
   },
   "outputs": [],
   "source": [
    "pd.DataFrame(data, columns=['no', 'name', 'dep', 'id', 'phone', 'pay_no',\n",
    "                            'add_no', 'id_image_name', 'id_image', 'pay_image_name', 'pay_image']).drop(['no', 'id_image_name', 'id_image', 'pay_image_name', 'pay_image'], axis = 1).to_excel('temp.xlsx')"
   ]
  },
  {
   "cell_type": "code",
   "execution_count": 31,
   "id": "bb64b8b9-00d6-44af-b741-9e6666516cee",
   "metadata": {
    "execution": {
     "iopub.execute_input": "2024-08-04T20:50:58.036945Z",
     "iopub.status.busy": "2024-08-04T20:50:58.035944Z",
     "iopub.status.idle": "2024-08-04T20:50:59.863363Z",
     "shell.execute_reply": "2024-08-04T20:50:59.863363Z",
     "shell.execute_reply.started": "2024-08-04T20:50:58.036945Z"
    }
   },
   "outputs": [],
   "source": [
    "pd.DataFrame(data, columns=['name']).to_excel('temp_name_add.xlsx')"
   ]
  },
  {
   "cell_type": "code",
   "execution_count": 21,
   "id": "d3816a9a-8c30-496e-bc00-725655618630",
   "metadata": {
    "execution": {
     "iopub.execute_input": "2024-08-04T20:27:56.080928Z",
     "iopub.status.busy": "2024-08-04T20:27:56.079923Z",
     "iopub.status.idle": "2024-08-04T20:27:58.193572Z",
     "shell.execute_reply": "2024-08-04T20:27:58.193572Z",
     "shell.execute_reply.started": "2024-08-04T20:27:56.079923Z"
    }
   },
   "outputs": [],
   "source": [
    "cnx = psycopg2.connect(user=\"natega\", password=\"{your_password}\", host=\"mtnatega.postgres.database.azure.com\", port=5432, database=\"postgres\")\n",
    "server = 'mtnatega.postgres.database.azure.com'\n",
    "database = 'postgres'\n",
    "username = 'natega'\n",
    "password = 'Mt100323'\n",
    "port = '5432'\n",
    "sslmode = 'require'\n",
    "conn = psycopg2.connect(\n",
    "    host=server,\n",
    "    database=database,\n",
    "    user=username,\n",
    "    password=password,\n",
    "    port=port,\n",
    "    sslmode=sslmode\n",
    ")\n",
    "cur = conn.cursor()\n",
    "select_query = '''\n",
    "DELETE FROM form\n",
    "where id = '30101282103732'\n",
    "'''\n",
    "cur.execute(select_query)\n",
    "conn.commit()"
   ]
  },
  {
   "cell_type": "code",
   "execution_count": null,
   "id": "b88f5585-df04-4bb0-bd5c-bf06abfa0f2d",
   "metadata": {},
   "outputs": [],
   "source": []
  }
 ],
 "metadata": {
  "kernelspec": {
   "display_name": "Python 3 (ipykernel)",
   "language": "python",
   "name": "python3"
  },
  "language_info": {
   "codemirror_mode": {
    "name": "ipython",
    "version": 3
   },
   "file_extension": ".py",
   "mimetype": "text/x-python",
   "name": "python",
   "nbconvert_exporter": "python",
   "pygments_lexer": "ipython3",
   "version": "3.12.4"
  }
 },
 "nbformat": 4,
 "nbformat_minor": 5
}
